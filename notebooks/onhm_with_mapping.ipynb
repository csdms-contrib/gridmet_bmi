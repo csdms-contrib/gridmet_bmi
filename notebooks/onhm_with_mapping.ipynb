{
 "cells": [
  {
   "cell_type": "code",
   "execution_count": 2,
   "metadata": {},
   "outputs": [
    {
     "output_type": "stream",
     "name": "stderr",
     "text": "\u001b[33;01m➡ models: Avulsion, Plume, Sedflux3D, Subside, PRMSSurface, PRMSStreamflow, PRMSSoil, PRMSGroundwater, FrostNumber, Ku, Hydrotrend, Cem, Waves\u001b[39;49;00m\n"
    }
   ],
   "source": [
    "import matplotlib.pyplot as plt\n",
    "from gridmet_bmi import Gridmet\n",
    "import numpy as np\n",
    "from pymt.models import PRMSSurface\n",
    "from pathlib import Path"
   ]
  },
  {
   "cell_type": "code",
   "execution_count": 3,
   "metadata": {},
   "outputs": [
    {
     "output_type": "stream",
     "name": "stdout",
     "text": "True\nTrue\nprms6-surface-BMI\n"
    },
    {
     "output_type": "execute_result",
     "data": {
      "text/plain": "'prms6-surface-BMI'"
     },
     "metadata": {},
     "execution_count": 3
    }
   ],
   "source": [
    "wght = '../../onhm-fetcher-parser/Data/weights.csv'\n",
    "run_dir = '../../bmi-test-projects/prms/pipestem'\n",
    "config_file = 'control.default'\n",
    "print(Path(run_dir).exists())\n",
    "print((Path(run_dir) / config_file).exists())\n",
    "\n",
    "m = PRMSSurface()\n",
    "print(m.name)\n",
    "m.name"
   ]
  },
  {
   "cell_type": "code",
   "execution_count": 4,
   "metadata": {},
   "outputs": [
    {
     "output_type": "execute_result",
     "data": {
      "text/plain": "array([57874, 57875, 57878, 57881, 57868, 57873, 57879, 57880, 57882,\n       57883, 57869, 57870, 57864, 57865], dtype=int32)"
     },
     "metadata": {},
     "execution_count": 4
    }
   ],
   "source": [
    "m.initialize(config_file, run_dir)\n",
    "m.get_value('nowtime')\n",
    "m.get_value('nhm_id')"
   ]
  },
  {
   "cell_type": "code",
   "execution_count": 12,
   "metadata": {},
   "outputs": [
    {
     "output_type": "error",
     "ename": "TypeError",
     "evalue": "__init__() got an unexpected keyword argument 'start_date'",
     "traceback": [
      "\u001b[0;31m---------------------------------------------------------------------------\u001b[0m",
      "\u001b[0;31mTypeError\u001b[0m                                 Traceback (most recent call last)",
      "\u001b[0;32m<ipython-input-12-fac347683d86>\u001b[0m in \u001b[0;36m<module>\u001b[0;34m\u001b[0m\n\u001b[0;32m----> 1\u001b[0;31m \u001b[0mdata\u001b[0m \u001b[0;34m=\u001b[0m \u001b[0mGridmet\u001b[0m\u001b[0;34m(\u001b[0m\u001b[0mstart_date\u001b[0m\u001b[0;34m=\u001b[0m\u001b[0;34m\"2019-03-14\"\u001b[0m\u001b[0;34m,\u001b[0m \u001b[0mend_date\u001b[0m\u001b[0;34m=\u001b[0m\u001b[0;34m\"2019-03-24\"\u001b[0m\u001b[0;34m,\u001b[0m \u001b[0mmap\u001b[0m\u001b[0;34m=\u001b[0m\u001b[0;32mTrue\u001b[0m\u001b[0;34m,\u001b[0m \u001b[0mhru_id\u001b[0m\u001b[0;34m=\u001b[0m\u001b[0mm\u001b[0m\u001b[0;34m.\u001b[0m\u001b[0mget_value\u001b[0m\u001b[0;34m(\u001b[0m\u001b[0;34m'nhm_id'\u001b[0m\u001b[0;34m)\u001b[0m\u001b[0;34m,\u001b[0m \u001b[0mwght_file\u001b[0m\u001b[0;34m=\u001b[0m\u001b[0mwght\u001b[0m\u001b[0;34m)\u001b[0m\u001b[0;34m\u001b[0m\u001b[0;34m\u001b[0m\u001b[0m\n\u001b[0m",
      "\u001b[0;31mTypeError\u001b[0m: __init__() got an unexpected keyword argument 'start_date'"
     ]
    }
   ],
   "source": [
    "data = Gridmet(start_date=\"2019-03-14\", end_date=\"2019-03-24\", map=True, hru_id=m.get_value('nhm_id'), wght_file=wght)"
   ]
  },
  {
   "cell_type": "code",
   "execution_count": null,
   "metadata": {},
   "outputs": [],
   "source": [
    "data.tmin"
   ]
  },
  {
   "cell_type": "code",
   "execution_count": null,
   "metadata": {},
   "outputs": [],
   "source": [
    "plt.imshow(data.tmin.values[:, :])"
   ]
  },
  {
   "cell_type": "code",
   "execution_count": null,
   "metadata": {},
   "outputs": [],
   "source": []
  }
 ],
 "metadata": {
  "kernelspec": {
   "display_name": "Python 3",
   "language": "python",
   "name": "python3"
  },
  "language_info": {
   "codemirror_mode": {
    "name": "ipython",
    "version": 3
   },
   "file_extension": ".py",
   "mimetype": "text/x-python",
   "name": "python",
   "nbconvert_exporter": "python",
   "pygments_lexer": "ipython3",
   "version": "3.7.6-final"
  }
 },
 "nbformat": 4,
 "nbformat_minor": 4
}